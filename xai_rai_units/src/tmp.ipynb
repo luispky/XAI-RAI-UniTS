{
 "cells": [
  {
   "cell_type": "code",
   "execution_count": 24,
   "metadata": {},
   "outputs": [
    {
     "name": "stdout",
     "output_type": "stream",
     "text": [
      "6\n",
      "[0 1 2 3 5]\n",
      "[0 1 2 3 5 5]\n",
      "[0.  0.2 0.4 0.6 1.  1. ]\n",
      "[1 1 2 3 8 8]\n"
     ]
    }
   ],
   "source": [
    "import numpy as np\n",
    "# predicted_labels = np.array([0, 0, 1, 3, 3, 3])\n",
    "predicted_labels = np.array([0, 1, 2, 3, 3, 4])\n",
    "explanations = np.array([1, 1, 2, 3, 5, 8])\n",
    "n_images = len(predicted_labels)\n",
    "print(n_images)\n",
    "changes = np.array([i for i in range(1, n_images) if predicted_labels[i] != predicted_labels[i-1]], dtype=int)\n",
    "changes = np.insert(changes, 0, 0)\n",
    "print(changes)\n",
    "changes = np.insert(changes, len(changes), n_images-1)\n",
    "print(changes)\n",
    "noise_fraction_changes = changes / (n_images-1)\n",
    "print(noise_fraction_changes)\n",
    "print(explanations[changes])"
   ]
  },
  {
   "cell_type": "code",
   "execution_count": 19,
   "metadata": {},
   "outputs": [
    {
     "data": {
      "text/plain": [
       "array([0. , 0.2, 0.4, 0.6, 0.8, 1. ])"
      ]
     },
     "execution_count": 19,
     "metadata": {},
     "output_type": "execute_result"
    }
   ],
   "source": [
    "np.linspace(0, 1, 6)"
   ]
  }
 ],
 "metadata": {
  "kernelspec": {
   "display_name": "DL",
   "language": "python",
   "name": "python3"
  },
  "language_info": {
   "codemirror_mode": {
    "name": "ipython",
    "version": 3
   },
   "file_extension": ".py",
   "mimetype": "text/x-python",
   "name": "python",
   "nbconvert_exporter": "python",
   "pygments_lexer": "ipython3",
   "version": "3.12.2"
  }
 },
 "nbformat": 4,
 "nbformat_minor": 2
}
